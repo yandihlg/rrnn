{
  "nbformat": 4,
  "nbformat_minor": 0,
  "metadata": {
    "colab": {
      "provenance": [],
      "authorship_tag": "ABX9TyODC4EkXgsTdLRcVmHaCgd2",
      "include_colab_link": true
    },
    "kernelspec": {
      "name": "python3",
      "display_name": "Python 3"
    },
    "language_info": {
      "name": "python"
    }
  },
  "cells": [
    {
      "cell_type": "markdown",
      "metadata": {
        "id": "view-in-github",
        "colab_type": "text"
      },
      "source": [
        "<a href=\"https://colab.research.google.com/github/yandihlg/rrnn/blob/main/p32024_0.1.ipynb\" target=\"_parent\"><img src=\"https://colab.research.google.com/assets/colab-badge.svg\" alt=\"Open In Colab\"/></a>"
      ]
    },
    {
      "cell_type": "code",
      "execution_count": 38,
      "metadata": {
        "id": "6bcBQEm-Lro2"
      },
      "outputs": [],
      "source": [
        "3import tensorflow as tf\n",
        "from keras import layers, models\n",
        "import numpy as np\n",
        "import pandas as pd\n",
        "from sklearn.model_selection import train_test_split\n",
        "from sklearn.preprocessing import LabelEncoder, MinMaxScaler"
      ]
    },
    {
      "cell_type": "code",
      "source": [
        "# @title Texto de título predeterminado\n",
        "#data = pd.read_csv(\"/content/2023_2024.csv\", header=None, names=['fecha', 'evento', 'centenas', 'decenas', 'unidades'])\n",
        "data = pd.read_csv(\"/content/2023_2024.csv\", header=None, names=['fecha', 'evento', 'decenas', 'unidades'])"
      ],
      "metadata": {
        "id": "n2XoNPRRL_dg"
      },
      "execution_count": 39,
      "outputs": []
    },
    {
      "cell_type": "code",
      "source": [
        "data['fecha'] = pd.to_datetime(data['fecha']).map(pd.Timestamp.toordinal)"
      ],
      "metadata": {
        "id": "Pi_gLnzjNnVk"
      },
      "execution_count": 40,
      "outputs": []
    },
    {
      "cell_type": "code",
      "source": [
        "le = LabelEncoder()\n",
        "data['evento'] = le.fit_transform(data['evento'])"
      ],
      "metadata": {
        "id": "zUMDCLDBNsB-"
      },
      "execution_count": 41,
      "outputs": []
    },
    {
      "cell_type": "code",
      "source": [
        "scaler = MinMaxScaler()\n",
        "X = scaler.fit_transform(data[['fecha', 'evento']])"
      ],
      "metadata": {
        "id": "PIIfXddYNwb1"
      },
      "execution_count": 42,
      "outputs": []
    },
    {
      "cell_type": "code",
      "source": [
        "y = data['decenas']*10 + data['unidades']"
      ],
      "metadata": {
        "id": "Vic4rCzYNzox"
      },
      "execution_count": 43,
      "outputs": []
    },
    {
      "cell_type": "code",
      "source": [
        "X_train, X_test, y_train, y_test = train_test_split(X, y, test_size=0.1, random_state=42)"
      ],
      "metadata": {
        "id": "mCCGI4_5N3Vp"
      },
      "execution_count": 62,
      "outputs": []
    },
    {
      "cell_type": "code",
      "source": [
        "model = models.Sequential([\n",
        "    layers.Dense(64, activation='relu', input_shape=(X_train.shape[1],)),\n",
        "    layers.Dense(64, activation='relu'),\n",
        "    layers.Dense(1)  # Una sola unidad de salida porque estamos haciendo predicción numérica\n",
        "])"
      ],
      "metadata": {
        "id": "FRtqMTmsN9Tv"
      },
      "execution_count": 63,
      "outputs": []
    },
    {
      "cell_type": "code",
      "source": [
        "model.compile(optimizer='adam',\n",
        "              loss='mean_squared_error')"
      ],
      "metadata": {
        "id": "FD7M3wMAOCEB"
      },
      "execution_count": 64,
      "outputs": []
    },
    {
      "cell_type": "code",
      "source": [
        "historial =model.fit(X_train, y_train, epochs=100, batch_size=1, verbose=1)"
      ],
      "metadata": {
        "colab": {
          "base_uri": "https://localhost:8080/"
        },
        "id": "Y6W61P8TOF2v",
        "outputId": "5415b373-5ae4-4da5-e89f-5d1daa8db4c0"
      },
      "execution_count": 65,
      "outputs": [
        {
          "output_type": "stream",
          "name": "stdout",
          "text": [
            "Epoch 1/100\n",
            "269/269 [==============================] - 1s 2ms/step - loss: 2707.5647\n",
            "Epoch 2/100\n",
            "269/269 [==============================] - 0s 2ms/step - loss: 994.3786\n",
            "Epoch 3/100\n",
            "269/269 [==============================] - 0s 2ms/step - loss: 939.2905\n",
            "Epoch 4/100\n",
            "269/269 [==============================] - 0s 2ms/step - loss: 927.5061\n",
            "Epoch 5/100\n",
            "269/269 [==============================] - 1s 2ms/step - loss: 917.8048\n",
            "Epoch 6/100\n",
            "269/269 [==============================] - 0s 2ms/step - loss: 908.4089\n",
            "Epoch 7/100\n",
            "269/269 [==============================] - 1s 2ms/step - loss: 900.1592\n",
            "Epoch 8/100\n",
            "269/269 [==============================] - 1s 3ms/step - loss: 895.3912\n",
            "Epoch 9/100\n",
            "269/269 [==============================] - 1s 3ms/step - loss: 889.4985\n",
            "Epoch 10/100\n",
            "269/269 [==============================] - 1s 3ms/step - loss: 880.8646\n",
            "Epoch 11/100\n",
            "269/269 [==============================] - 1s 2ms/step - loss: 882.8266\n",
            "Epoch 12/100\n",
            "269/269 [==============================] - 0s 2ms/step - loss: 878.0855\n",
            "Epoch 13/100\n",
            "269/269 [==============================] - 0s 2ms/step - loss: 874.0949\n",
            "Epoch 14/100\n",
            "269/269 [==============================] - 0s 2ms/step - loss: 875.0237\n",
            "Epoch 15/100\n",
            "269/269 [==============================] - 0s 2ms/step - loss: 869.8961\n",
            "Epoch 16/100\n",
            "269/269 [==============================] - 0s 2ms/step - loss: 863.9250\n",
            "Epoch 17/100\n",
            "269/269 [==============================] - 0s 2ms/step - loss: 867.4500\n",
            "Epoch 18/100\n",
            "269/269 [==============================] - 0s 2ms/step - loss: 866.6603\n",
            "Epoch 19/100\n",
            "269/269 [==============================] - 0s 2ms/step - loss: 862.2297\n",
            "Epoch 20/100\n",
            "269/269 [==============================] - 0s 2ms/step - loss: 859.6061\n",
            "Epoch 21/100\n",
            "269/269 [==============================] - 0s 2ms/step - loss: 863.1183\n",
            "Epoch 22/100\n",
            "269/269 [==============================] - 0s 2ms/step - loss: 860.3546\n",
            "Epoch 23/100\n",
            "269/269 [==============================] - 0s 2ms/step - loss: 862.1841\n",
            "Epoch 24/100\n",
            "269/269 [==============================] - 0s 2ms/step - loss: 859.3651\n",
            "Epoch 25/100\n",
            "269/269 [==============================] - 0s 2ms/step - loss: 860.5430\n",
            "Epoch 26/100\n",
            "269/269 [==============================] - 0s 2ms/step - loss: 856.4429\n",
            "Epoch 27/100\n",
            "269/269 [==============================] - 1s 2ms/step - loss: 858.6182\n",
            "Epoch 28/100\n",
            "269/269 [==============================] - 0s 2ms/step - loss: 855.3707\n",
            "Epoch 29/100\n",
            "269/269 [==============================] - 0s 2ms/step - loss: 850.1323\n",
            "Epoch 30/100\n",
            "269/269 [==============================] - 0s 2ms/step - loss: 860.0851\n",
            "Epoch 31/100\n",
            "269/269 [==============================] - 1s 2ms/step - loss: 851.7803\n",
            "Epoch 32/100\n",
            "269/269 [==============================] - 1s 2ms/step - loss: 860.3297\n",
            "Epoch 33/100\n",
            "269/269 [==============================] - 1s 3ms/step - loss: 859.6080\n",
            "Epoch 34/100\n",
            "269/269 [==============================] - 1s 3ms/step - loss: 858.0261\n",
            "Epoch 35/100\n",
            "269/269 [==============================] - 1s 4ms/step - loss: 858.2922\n",
            "Epoch 36/100\n",
            "269/269 [==============================] - 1s 3ms/step - loss: 859.5409\n",
            "Epoch 37/100\n",
            "269/269 [==============================] - 1s 3ms/step - loss: 859.6794\n",
            "Epoch 38/100\n",
            "269/269 [==============================] - 1s 3ms/step - loss: 857.4305\n",
            "Epoch 39/100\n",
            "269/269 [==============================] - 1s 2ms/step - loss: 859.8471\n",
            "Epoch 40/100\n",
            "269/269 [==============================] - 1s 2ms/step - loss: 858.3792\n",
            "Epoch 41/100\n",
            "269/269 [==============================] - 0s 2ms/step - loss: 858.2473\n",
            "Epoch 42/100\n",
            "269/269 [==============================] - 0s 2ms/step - loss: 855.7233\n",
            "Epoch 43/100\n",
            "269/269 [==============================] - 0s 2ms/step - loss: 857.8990\n",
            "Epoch 44/100\n",
            "269/269 [==============================] - 0s 2ms/step - loss: 857.1277\n",
            "Epoch 45/100\n",
            "269/269 [==============================] - 0s 2ms/step - loss: 850.9598\n",
            "Epoch 46/100\n",
            "269/269 [==============================] - 0s 2ms/step - loss: 857.1783\n",
            "Epoch 47/100\n",
            "269/269 [==============================] - 1s 2ms/step - loss: 856.1337\n",
            "Epoch 48/100\n",
            "269/269 [==============================] - 0s 2ms/step - loss: 858.4055\n",
            "Epoch 49/100\n",
            "269/269 [==============================] - 0s 2ms/step - loss: 857.0834\n",
            "Epoch 50/100\n",
            "269/269 [==============================] - 0s 2ms/step - loss: 855.2466\n",
            "Epoch 51/100\n",
            "269/269 [==============================] - 0s 2ms/step - loss: 856.1995\n",
            "Epoch 52/100\n",
            "269/269 [==============================] - 0s 2ms/step - loss: 857.1851\n",
            "Epoch 53/100\n",
            "269/269 [==============================] - 0s 2ms/step - loss: 865.2251\n",
            "Epoch 54/100\n",
            "269/269 [==============================] - 0s 2ms/step - loss: 853.9420\n",
            "Epoch 55/100\n",
            "269/269 [==============================] - 1s 3ms/step - loss: 860.9904\n",
            "Epoch 56/100\n",
            "269/269 [==============================] - 1s 3ms/step - loss: 855.3176\n",
            "Epoch 57/100\n",
            "269/269 [==============================] - 1s 3ms/step - loss: 857.7607\n",
            "Epoch 58/100\n",
            "269/269 [==============================] - 1s 2ms/step - loss: 857.7530\n",
            "Epoch 59/100\n",
            "269/269 [==============================] - 0s 2ms/step - loss: 858.1513\n",
            "Epoch 60/100\n",
            "269/269 [==============================] - 0s 2ms/step - loss: 855.3228\n",
            "Epoch 61/100\n",
            "269/269 [==============================] - 0s 2ms/step - loss: 857.4185\n",
            "Epoch 62/100\n",
            "269/269 [==============================] - 1s 2ms/step - loss: 864.9564\n",
            "Epoch 63/100\n",
            "269/269 [==============================] - 0s 2ms/step - loss: 859.6857\n",
            "Epoch 64/100\n",
            "269/269 [==============================] - 0s 2ms/step - loss: 857.4510\n",
            "Epoch 65/100\n",
            "269/269 [==============================] - 0s 2ms/step - loss: 857.1188\n",
            "Epoch 66/100\n",
            "269/269 [==============================] - 0s 2ms/step - loss: 855.4115\n",
            "Epoch 67/100\n",
            "269/269 [==============================] - 0s 2ms/step - loss: 855.0259\n",
            "Epoch 68/100\n",
            "269/269 [==============================] - 0s 2ms/step - loss: 861.1675\n",
            "Epoch 69/100\n",
            "269/269 [==============================] - 0s 2ms/step - loss: 854.7937\n",
            "Epoch 70/100\n",
            "269/269 [==============================] - 0s 2ms/step - loss: 859.3304\n",
            "Epoch 71/100\n",
            "269/269 [==============================] - 0s 2ms/step - loss: 855.7861\n",
            "Epoch 72/100\n",
            "269/269 [==============================] - 0s 2ms/step - loss: 857.0355\n",
            "Epoch 73/100\n",
            "269/269 [==============================] - 0s 2ms/step - loss: 856.3660\n",
            "Epoch 74/100\n",
            "269/269 [==============================] - 0s 2ms/step - loss: 856.9609\n",
            "Epoch 75/100\n",
            "269/269 [==============================] - 0s 2ms/step - loss: 848.9590\n",
            "Epoch 76/100\n",
            "269/269 [==============================] - 0s 2ms/step - loss: 858.7853\n",
            "Epoch 77/100\n",
            "269/269 [==============================] - 0s 2ms/step - loss: 851.3239\n",
            "Epoch 78/100\n",
            "269/269 [==============================] - 0s 2ms/step - loss: 865.6570\n",
            "Epoch 79/100\n",
            "269/269 [==============================] - 1s 3ms/step - loss: 861.6773\n",
            "Epoch 80/100\n",
            "269/269 [==============================] - 1s 3ms/step - loss: 856.2145\n",
            "Epoch 81/100\n",
            "269/269 [==============================] - 1s 3ms/step - loss: 858.0066\n",
            "Epoch 82/100\n",
            "269/269 [==============================] - 1s 2ms/step - loss: 861.1402\n",
            "Epoch 83/100\n",
            "269/269 [==============================] - 0s 2ms/step - loss: 857.9555\n",
            "Epoch 84/100\n",
            "269/269 [==============================] - 0s 2ms/step - loss: 849.8904\n",
            "Epoch 85/100\n",
            "269/269 [==============================] - 1s 2ms/step - loss: 859.1864\n",
            "Epoch 86/100\n",
            "269/269 [==============================] - 0s 2ms/step - loss: 856.1292\n",
            "Epoch 87/100\n",
            "269/269 [==============================] - 0s 2ms/step - loss: 856.2784\n",
            "Epoch 88/100\n",
            "269/269 [==============================] - 0s 2ms/step - loss: 862.0327\n",
            "Epoch 89/100\n",
            "269/269 [==============================] - 1s 2ms/step - loss: 858.1984\n",
            "Epoch 90/100\n",
            "269/269 [==============================] - 0s 2ms/step - loss: 859.4053\n",
            "Epoch 91/100\n",
            "269/269 [==============================] - 0s 2ms/step - loss: 856.9055\n",
            "Epoch 92/100\n",
            "269/269 [==============================] - 1s 2ms/step - loss: 863.8480\n",
            "Epoch 93/100\n",
            "269/269 [==============================] - 0s 2ms/step - loss: 854.7661\n",
            "Epoch 94/100\n",
            "269/269 [==============================] - 0s 2ms/step - loss: 853.0436\n",
            "Epoch 95/100\n",
            "269/269 [==============================] - 0s 2ms/step - loss: 857.9271\n",
            "Epoch 96/100\n",
            "269/269 [==============================] - 0s 2ms/step - loss: 858.5708\n",
            "Epoch 97/100\n",
            "269/269 [==============================] - 1s 2ms/step - loss: 859.7482\n",
            "Epoch 98/100\n",
            "269/269 [==============================] - 1s 2ms/step - loss: 859.7450\n",
            "Epoch 99/100\n",
            "269/269 [==============================] - 0s 2ms/step - loss: 861.5739\n",
            "Epoch 100/100\n",
            "269/269 [==============================] - 0s 2ms/step - loss: 857.7842\n"
          ]
        }
      ]
    },
    {
      "cell_type": "code",
      "source": [
        "import matplotlib.pyplot as plt\n",
        "plt.xlabel(\"# Epoca\")\n",
        "plt.ylabel(\"magnitud de perdida\")\n",
        "plt.plot(historial.history[\"loss\"])"
      ],
      "metadata": {
        "colab": {
          "base_uri": "https://localhost:8080/",
          "height": 467
        },
        "id": "ey3nlE4pOi2K",
        "outputId": "17245397-4ee4-4a61-f10f-c5cae51e0a1a"
      },
      "execution_count": 66,
      "outputs": [
        {
          "output_type": "execute_result",
          "data": {
            "text/plain": [
              "[<matplotlib.lines.Line2D at 0x7c5ca67560b0>]"
            ]
          },
          "metadata": {},
          "execution_count": 66
        },
        {
          "output_type": "display_data",
          "data": {
            "text/plain": [
              "<Figure size 640x480 with 1 Axes>"
            ],
            "image/png": "[encoded data removed]"
          },
          "metadata": {}
        }
      ]
    },
    {
      "cell_type": "code",
      "source": [
        "predictions = model.predict(X_test)"
      ],
      "metadata": {
        "colab": {
          "base_uri": "https://localhost:8080/"
        },
        "id": "KW195fd6ABZt",
        "outputId": "436bc324-1684-4a66-e899-c2d1717f1c40"
      },
      "execution_count": 67,
      "outputs": [
        {
          "output_type": "stream",
          "name": "stdout",
          "text": [
            "1/1 [==============================] - 0s 68ms/step\n"
          ]
        }
      ]
    },
    {
      "cell_type": "code",
      "source": [
        "for i, prediction in enumerate(predictions):\n",
        "    print(f\"Predicción {i+1}: {prediction[0]}\")"
      ],
      "metadata": {
        "id": "NBoIlOYeAI7n",
        "outputId": "57363160-1b89-4a8b-ab1a-116770737082",
        "colab": {
          "base_uri": "https://localhost:8080/"
        }
      },
      "execution_count": 68,
      "outputs": [
        {
          "output_type": "stream",
          "name": "stdout",
          "text": [
            "Predicción 1: 49.83484649658203\n",
            "Predicción 2: 49.87346649169922\n",
            "Predicción 3: 50.597633361816406\n",
            "Predicción 4: 51.76112747192383\n",
            "Predicción 5: 51.31697082519531\n",
            "Predicción 6: 49.84449768066406\n",
            "Predicción 7: 51.186622619628906\n",
            "Predicción 8: 51.0562744140625\n",
            "Predicción 9: 51.770782470703125\n",
            "Predicción 10: 50.57832336425781\n",
            "Predicción 11: 51.17696762084961\n",
            "Predicción 12: 50.438316345214844\n",
            "Predicción 13: 50.46245193481445\n",
            "Predicción 14: 50.7135009765625\n",
            "Predicción 15: 51.45697784423828\n",
            "Predicción 16: 51.4521484375\n",
            "Predicción 17: 50.732810974121094\n",
            "Predicción 18: 51.15283203125\n",
            "Predicción 19: 51.350765228271484\n",
            "Predicción 20: 50.761775970458984\n",
            "Predicción 21: 50.7135009765625\n",
            "Predicción 22: 51.16248321533203\n",
            "Predicción 23: 50.008644104003906\n",
            "Predicción 24: 51.48594284057617\n",
            "Predicción 25: 51.495601654052734\n",
            "Predicción 26: 49.849327087402344\n",
            "Predicción 27: 49.83967208862305\n",
            "Predicción 28: 51.04179000854492\n",
            "Predicción 29: 50.30313491821289\n",
            "Predicción 30: 50.15830612182617\n"
          ]
        }
      ]
    }
  ]
}