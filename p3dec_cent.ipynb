{
  "nbformat": 4,
  "nbformat_minor": 0,
  "metadata": {
    "colab": {
      "provenance": [],
      "authorship_tag": "ABX9TyPV/J6XRtoFxmZyfANjiYah",
      "include_colab_link": true
    },
    "kernelspec": {
      "name": "python3",
      "display_name": "Python 3"
    },
    "language_info": {
      "name": "python"
    }
  },
  "cells": [
    {
      "cell_type": "markdown",
      "metadata": {
        "id": "view-in-github",
        "colab_type": "text"
      },
      "source": [
        "<a href=\"https://colab.research.google.com/github/yandihlg/rrnn/blob/main/p3dec_cent.ipynb\" target=\"_parent\"><img src=\"https://colab.research.google.com/assets/colab-badge.svg\" alt=\"Open In Colab\"/></a>"
      ]
    },
    {
      "cell_type": "code",
      "execution_count": 38,
      "metadata": {
        "id": "6bcBQEm-Lro2"
      },
      "outputs": [],
      "source": [
        "3import tensorflow as tf\n",
        "from keras import layers, models\n",
        "import numpy as np\n",
        "import pandas as pd\n",
        "from sklearn.model_selection import train_test_split\n",
        "from sklearn.preprocessing import LabelEncoder, MinMaxScaler"
      ]
    },
    {
      "cell_type": "code",
      "source": [
        "# @title Texto de título predeterminado\n",
        "#data = pd.read_csv(\"/content/2023_2024.csv\", header=None, names=['fecha', 'evento', 'centenas', 'decenas', 'unidades'])\n",
        "data = pd.read_csv(\"/content/2023_2024.csv\", header=None, names=['fecha', 'evento', 'decenas', 'unidades'])"
      ],
      "metadata": {
        "id": "n2XoNPRRL_dg"
      },
      "execution_count": 39,
      "outputs": []
    },
    {
      "cell_type": "code",
      "source": [
        "data['fecha'] = pd.to_datetime(data['fecha']).map(pd.Timestamp.toordinal)"
      ],
      "metadata": {
        "id": "Pi_gLnzjNnVk"
      },
      "execution_count": 40,
      "outputs": []
    },
    {
      "cell_type": "code",
      "source": [
        "le = LabelEncoder()\n",
        "data['evento'] = le.fit_transform(data['evento'])"
      ],
      "metadata": {
        "id": "zUMDCLDBNsB-"
      },
      "execution_count": 41,
      "outputs": []
    },
    {
      "cell_type": "code",
      "source": [
        "scaler = MinMaxScaler()\n",
        "X = scaler.fit_transform(data[['fecha', 'evento']])"
      ],
      "metadata": {
        "id": "PIIfXddYNwb1"
      },
      "execution_count": 42,
      "outputs": []
    },
    {
      "cell_type": "code",
      "source": [
        "y = data['decenas']*10 + data['unidades']"
      ],
      "metadata": {
        "id": "Vic4rCzYNzox"
      },
      "execution_count": 43,
      "outputs": []
    },
    {
      "cell_type": "code",
      "source": [
        "X_train, X_test, y_train, y_test = train_test_split(X, y, test_size=0.2, random_state=42)"
      ],
      "metadata": {
        "id": "mCCGI4_5N3Vp"
      },
      "execution_count": 44,
      "outputs": []
    },
    {
      "cell_type": "code",
      "source": [
        "model = models.Sequential([\n",
        "    layers.Dense(64, activation='relu', input_shape=(X_train.shape[1],)),\n",
        "    layers.Dense(64, activation='relu'),\n",
        "    layers.Dense(1)  # Una sola unidad de salida porque estamos haciendo predicción numérica\n",
        "])"
      ],
      "metadata": {
        "id": "FRtqMTmsN9Tv"
      },
      "execution_count": 45,
      "outputs": []
    },
    {
      "cell_type": "code",
      "source": [
        "model.compile(optimizer='adam',\n",
        "              loss='mean_squared_error')"
      ],
      "metadata": {
        "id": "FD7M3wMAOCEB"
      },
      "execution_count": 46,
      "outputs": []
    },
    {
      "cell_type": "code",
      "source": [
        "historial =model.fit(X_train, y_train, epochs=100, batch_size=1, verbose=1)"
      ],
      "metadata": {
        "colab": {
          "base_uri": "https://localhost:8080/"
        },
        "id": "Y6W61P8TOF2v",
        "outputId": "7e2a158f-169b-47d3-cf97-2e576b420c12"
      },
      "execution_count": 57,
      "outputs": [
        {
          "output_type": "stream",
          "name": "stdout",
          "text": [
            "Epoch 1/100\n",
            "239/239 [==============================] - 1s 3ms/step - loss: 874.0949\n",
            "Epoch 2/100\n",
            "239/239 [==============================] - 1s 3ms/step - loss: 873.8589\n",
            "Epoch 3/100\n",
            "239/239 [==============================] - 1s 3ms/step - loss: 874.7856\n",
            "Epoch 4/100\n",
            "239/239 [==============================] - 0s 2ms/step - loss: 870.4380\n",
            "Epoch 5/100\n",
            "239/239 [==============================] - 0s 2ms/step - loss: 864.8795\n",
            "Epoch 6/100\n",
            "239/239 [==============================] - 0s 2ms/step - loss: 871.8024\n",
            "Epoch 7/100\n",
            "239/239 [==============================] - 0s 2ms/step - loss: 875.9255\n",
            "Epoch 8/100\n",
            "239/239 [==============================] - 0s 2ms/step - loss: 874.6495\n",
            "Epoch 9/100\n",
            "239/239 [==============================] - 0s 2ms/step - loss: 871.6382\n",
            "Epoch 10/100\n",
            "239/239 [==============================] - 0s 2ms/step - loss: 872.6525\n",
            "Epoch 11/100\n",
            "239/239 [==============================] - 0s 2ms/step - loss: 876.3094\n",
            "Epoch 12/100\n",
            "239/239 [==============================] - 0s 2ms/step - loss: 872.1593\n",
            "Epoch 13/100\n",
            "239/239 [==============================] - 0s 2ms/step - loss: 871.0793\n",
            "Epoch 14/100\n",
            "239/239 [==============================] - 0s 2ms/step - loss: 868.5385\n",
            "Epoch 15/100\n",
            "239/239 [==============================] - 0s 2ms/step - loss: 873.3698\n",
            "Epoch 16/100\n",
            "239/239 [==============================] - 0s 2ms/step - loss: 873.0544\n",
            "Epoch 17/100\n",
            "239/239 [==============================] - 0s 2ms/step - loss: 869.3438\n",
            "Epoch 18/100\n",
            "239/239 [==============================] - 0s 2ms/step - loss: 870.6830\n",
            "Epoch 19/100\n",
            "239/239 [==============================] - 0s 2ms/step - loss: 877.7810\n",
            "Epoch 20/100\n",
            "239/239 [==============================] - 0s 2ms/step - loss: 874.1270\n",
            "Epoch 21/100\n",
            "239/239 [==============================] - 0s 2ms/step - loss: 871.6086\n",
            "Epoch 22/100\n",
            "239/239 [==============================] - 0s 2ms/step - loss: 871.6915\n",
            "Epoch 23/100\n",
            "239/239 [==============================] - 0s 2ms/step - loss: 873.2328\n",
            "Epoch 24/100\n",
            "239/239 [==============================] - 0s 2ms/step - loss: 872.7444\n",
            "Epoch 25/100\n",
            "239/239 [==============================] - 1s 2ms/step - loss: 872.4667\n",
            "Epoch 26/100\n",
            "239/239 [==============================] - 1s 3ms/step - loss: 870.9370\n",
            "Epoch 27/100\n",
            "239/239 [==============================] - 1s 3ms/step - loss: 875.1010\n",
            "Epoch 28/100\n",
            "239/239 [==============================] - 1s 3ms/step - loss: 872.2122\n",
            "Epoch 29/100\n",
            "239/239 [==============================] - 0s 2ms/step - loss: 880.4466\n",
            "Epoch 30/100\n",
            "239/239 [==============================] - 0s 2ms/step - loss: 870.8157\n",
            "Epoch 31/100\n",
            "239/239 [==============================] - 0s 2ms/step - loss: 872.8817\n",
            "Epoch 32/100\n",
            "239/239 [==============================] - 0s 2ms/step - loss: 874.4665\n",
            "Epoch 33/100\n",
            "239/239 [==============================] - 0s 2ms/step - loss: 872.9872\n",
            "Epoch 34/100\n",
            "239/239 [==============================] - 0s 2ms/step - loss: 874.8235\n",
            "Epoch 35/100\n",
            "239/239 [==============================] - 0s 2ms/step - loss: 872.8041\n",
            "Epoch 36/100\n",
            "239/239 [==============================] - 0s 2ms/step - loss: 873.9941\n",
            "Epoch 37/100\n",
            "239/239 [==============================] - 0s 2ms/step - loss: 870.8654\n",
            "Epoch 38/100\n",
            "239/239 [==============================] - 0s 2ms/step - loss: 878.6566\n",
            "Epoch 39/100\n",
            "239/239 [==============================] - 0s 2ms/step - loss: 868.6841\n",
            "Epoch 40/100\n",
            "239/239 [==============================] - 0s 2ms/step - loss: 856.8743\n",
            "Epoch 41/100\n",
            "239/239 [==============================] - 0s 2ms/step - loss: 876.9269\n",
            "Epoch 42/100\n",
            "239/239 [==============================] - 0s 2ms/step - loss: 877.5200\n",
            "Epoch 43/100\n",
            "239/239 [==============================] - 0s 2ms/step - loss: 871.2408\n",
            "Epoch 44/100\n",
            "239/239 [==============================] - 0s 2ms/step - loss: 871.2089\n",
            "Epoch 45/100\n",
            "239/239 [==============================] - 0s 2ms/step - loss: 876.8320\n",
            "Epoch 46/100\n",
            "239/239 [==============================] - 0s 2ms/step - loss: 864.1270\n",
            "Epoch 47/100\n",
            "239/239 [==============================] - 0s 2ms/step - loss: 871.7261\n",
            "Epoch 48/100\n",
            "239/239 [==============================] - 0s 2ms/step - loss: 874.0549\n",
            "Epoch 49/100\n",
            "239/239 [==============================] - 0s 2ms/step - loss: 867.8223\n",
            "Epoch 50/100\n",
            "239/239 [==============================] - 0s 2ms/step - loss: 872.3892\n",
            "Epoch 51/100\n",
            "239/239 [==============================] - 1s 2ms/step - loss: 873.0856\n",
            "Epoch 52/100\n",
            "239/239 [==============================] - 1s 3ms/step - loss: 871.5287\n",
            "Epoch 53/100\n",
            "239/239 [==============================] - 1s 3ms/step - loss: 874.0953\n",
            "Epoch 54/100\n",
            "239/239 [==============================] - 1s 3ms/step - loss: 873.6572\n",
            "Epoch 55/100\n",
            "239/239 [==============================] - 1s 2ms/step - loss: 868.5527\n",
            "Epoch 56/100\n",
            "239/239 [==============================] - 0s 2ms/step - loss: 872.4993\n",
            "Epoch 57/100\n",
            "239/239 [==============================] - 0s 2ms/step - loss: 876.0532\n",
            "Epoch 58/100\n",
            "239/239 [==============================] - 0s 2ms/step - loss: 868.3734\n",
            "Epoch 59/100\n",
            "239/239 [==============================] - 0s 2ms/step - loss: 875.0405\n",
            "Epoch 60/100\n",
            "239/239 [==============================] - 0s 2ms/step - loss: 873.5250\n",
            "Epoch 61/100\n",
            "239/239 [==============================] - 0s 2ms/step - loss: 873.1336\n",
            "Epoch 62/100\n",
            "239/239 [==============================] - 0s 2ms/step - loss: 873.8710\n",
            "Epoch 63/100\n",
            "239/239 [==============================] - 0s 2ms/step - loss: 869.9901\n",
            "Epoch 64/100\n",
            "239/239 [==============================] - 0s 2ms/step - loss: 870.3183\n",
            "Epoch 65/100\n",
            "239/239 [==============================] - 0s 2ms/step - loss: 868.5995\n",
            "Epoch 66/100\n",
            "239/239 [==============================] - 0s 2ms/step - loss: 873.5993\n",
            "Epoch 67/100\n",
            "239/239 [==============================] - 0s 2ms/step - loss: 875.4656\n",
            "Epoch 68/100\n",
            "239/239 [==============================] - 0s 2ms/step - loss: 872.7933\n",
            "Epoch 69/100\n",
            "239/239 [==============================] - 0s 2ms/step - loss: 875.0902\n",
            "Epoch 70/100\n",
            "239/239 [==============================] - 0s 2ms/step - loss: 875.5838\n",
            "Epoch 71/100\n",
            "239/239 [==============================] - 0s 2ms/step - loss: 873.2547\n",
            "Epoch 72/100\n",
            "239/239 [==============================] - 0s 2ms/step - loss: 870.5128\n",
            "Epoch 73/100\n",
            "239/239 [==============================] - 0s 2ms/step - loss: 869.0807\n",
            "Epoch 74/100\n",
            "239/239 [==============================] - 0s 2ms/step - loss: 876.0844\n",
            "Epoch 75/100\n",
            "239/239 [==============================] - 0s 2ms/step - loss: 873.1758\n",
            "Epoch 76/100\n",
            "239/239 [==============================] - 0s 2ms/step - loss: 871.6769\n",
            "Epoch 77/100\n",
            "239/239 [==============================] - 0s 2ms/step - loss: 866.1415\n",
            "Epoch 78/100\n",
            "239/239 [==============================] - 1s 3ms/step - loss: 870.7766\n",
            "Epoch 79/100\n",
            "239/239 [==============================] - 1s 3ms/step - loss: 881.5308\n",
            "Epoch 80/100\n",
            "239/239 [==============================] - 1s 3ms/step - loss: 872.6365\n",
            "Epoch 81/100\n",
            "239/239 [==============================] - 1s 3ms/step - loss: 871.2224\n",
            "Epoch 82/100\n",
            "239/239 [==============================] - 0s 2ms/step - loss: 876.8598\n",
            "Epoch 83/100\n",
            "239/239 [==============================] - 0s 2ms/step - loss: 873.1022\n",
            "Epoch 84/100\n",
            "239/239 [==============================] - 0s 2ms/step - loss: 870.5356\n",
            "Epoch 85/100\n",
            "239/239 [==============================] - 0s 2ms/step - loss: 876.1909\n",
            "Epoch 86/100\n",
            "239/239 [==============================] - 0s 2ms/step - loss: 875.9107\n",
            "Epoch 87/100\n",
            "239/239 [==============================] - 0s 2ms/step - loss: 872.2236\n",
            "Epoch 88/100\n",
            "239/239 [==============================] - 0s 2ms/step - loss: 869.8947\n",
            "Epoch 89/100\n",
            "239/239 [==============================] - 0s 2ms/step - loss: 874.5244\n",
            "Epoch 90/100\n",
            "239/239 [==============================] - 0s 2ms/step - loss: 871.2269\n",
            "Epoch 91/100\n",
            "239/239 [==============================] - 0s 2ms/step - loss: 873.1618\n",
            "Epoch 92/100\n",
            "239/239 [==============================] - 0s 2ms/step - loss: 876.0811\n",
            "Epoch 93/100\n",
            "239/239 [==============================] - 0s 2ms/step - loss: 874.7745\n",
            "Epoch 94/100\n",
            "239/239 [==============================] - 0s 2ms/step - loss: 868.2614\n",
            "Epoch 95/100\n",
            "239/239 [==============================] - 0s 2ms/step - loss: 870.7432\n",
            "Epoch 96/100\n",
            "239/239 [==============================] - 0s 2ms/step - loss: 875.7549\n",
            "Epoch 97/100\n",
            "239/239 [==============================] - 0s 2ms/step - loss: 876.2550\n",
            "Epoch 98/100\n",
            "239/239 [==============================] - 0s 2ms/step - loss: 874.3881\n",
            "Epoch 99/100\n",
            "239/239 [==============================] - 0s 2ms/step - loss: 872.1598\n",
            "Epoch 100/100\n",
            "239/239 [==============================] - 0s 2ms/step - loss: 868.2587\n"
          ]
        }
      ]
    },
    {
      "cell_type": "code",
      "source": [
        "import matplotlib.pyplot as plt\n",
        "plt.xlabel(\"# Epoca\")\n",
        "plt.ylabel(\"magnitud de perdida\")\n",
        "plt.plot(historial.history[\"loss\"])"
      ],
      "metadata": {
        "colab": {
          "base_uri": "https://localhost:8080/",
          "height": 467
        },
        "id": "ey3nlE4pOi2K",
        "outputId": "22729198-5b67-4874-9352-145d1c7aac19"
      },
      "execution_count": 59,
      "outputs": [
        {
          "output_type": "execute_result",
          "data": {
            "text/plain": [
              "[<matplotlib.lines.Line2D at 0x7c5cac2b4250>]"
            ]
          },
          "metadata": {},
          "execution_count": 59
        },
        {
          "output_type": "display_data",
          "data": {
            "text/plain": [
              "<Figure size 640x480 with 1 Axes>"
            ],
            "image/png": "[encoded data removed]"
          },
          "metadata": {}
        }
      ]
    },
    {
      "cell_type": "code",
      "source": [
        "predictions = model.predict(X_test)"
      ],
      "metadata": {
        "colab": {
          "base_uri": "https://localhost:8080/"
        },
        "id": "KW195fd6ABZt",
        "outputId": "d3cb55d9-468b-4189-f665-eba4fa1fcd97"
      },
      "execution_count": 60,
      "outputs": [
        {
          "output_type": "stream",
          "name": "stdout",
          "text": [
            "2/2 [==============================] - 0s 6ms/step\n"
          ]
        }
      ]
    },
    {
      "cell_type": "code",
      "source": [
        "for i, prediction in enumerate(predictions):\n",
        "    print(f\"Predicción {i+1}: {prediction[0]}\")"
      ],
      "metadata": {
        "id": "NBoIlOYeAI7n",
        "outputId": "a5303f35-6196-4017-93a3-ac3a7f30aebf",
        "colab": {
          "base_uri": "https://localhost:8080/"
        }
      },
      "execution_count": 61,
      "outputs": [
        {
          "output_type": "stream",
          "name": "stdout",
          "text": [
            "Predicción 1: 49.49703598022461\n",
            "Predicción 2: 49.57695770263672\n",
            "Predicción 3: 51.07552719116211\n",
            "Predicción 4: 53.48322677612305\n",
            "Predicción 5: 52.56410598754883\n",
            "Predicción 6: 49.51701736450195\n",
            "Predicción 7: 52.29436492919922\n",
            "Predicción 8: 52.024620056152344\n",
            "Predicción 9: 53.503211975097656\n",
            "Predicción 10: 51.03556823730469\n",
            "Predicción 11: 52.27438735961914\n",
            "Predicción 12: 50.745845794677734\n",
            "Predicción 13: 50.79579544067383\n",
            "Predicción 14: 51.3152961730957\n",
            "Predicción 15: 52.85383224487305\n",
            "Predicción 16: 52.843841552734375\n",
            "Predicción 17: 51.35525894165039\n",
            "Predicción 18: 52.224430084228516\n",
            "Predicción 19: 52.63404083251953\n",
            "Predicción 20: 51.41520309448242\n",
            "Predicción 21: 51.3152961730957\n",
            "Predicción 22: 52.24441146850586\n",
            "Predicción 23: 49.856693267822266\n",
            "Predicción 24: 52.91377639770508\n",
            "Predicción 25: 52.93375015258789\n",
            "Predicción 26: 49.527008056640625\n",
            "Predicción 27: 49.50702667236328\n",
            "Predicción 28: 51.99465560913086\n",
            "Predicción 29: 50.46611022949219\n",
            "Predicción 30: 50.16639709472656\n",
            "Predicción 31: 53.443267822265625\n",
            "Predicción 32: 50.15640640258789\n",
            "Predicción 33: 53.163536071777344\n",
            "Predicción 34: 53.2134895324707\n",
            "Predicción 35: 52.91377639770508\n",
            "Predicción 36: 53.493221282958984\n",
            "Predicción 37: 52.004642486572266\n",
            "Predicción 38: 50.745845794677734\n",
            "Predicción 39: 52.01463317871094\n",
            "Predicción 40: 52.30435562133789\n",
            "Predicción 41: 52.5740966796875\n",
            "Predicción 42: 52.544124603271484\n",
            "Predicción 43: 51.98466110229492\n",
            "Predicción 44: 52.5740966796875\n",
            "Predicción 45: 51.92471694946289\n",
            "Predicción 46: 50.7358512878418\n",
            "Predicción 47: 50.47610092163086\n",
            "Predicción 48: 49.23728561401367\n",
            "Predicción 49: 50.43614196777344\n",
            "Predicción 50: 51.00559616088867\n",
            "Predicción 51: 51.36525344848633\n",
            "Predicción 52: 50.78580093383789\n",
            "Predicción 53: 52.53413772583008\n",
            "Predicción 54: 49.856693267822266\n",
            "Predicción 55: 49.51701736450195\n",
            "Predicción 56: 52.58408737182617\n",
            "Predicción 57: 49.876670837402344\n",
            "Predicción 58: 53.20349884033203\n",
            "Predicción 59: 50.4860954284668\n",
            "Predicción 60: 52.843841552734375\n"
          ]
        }
      ]
    }
  ]
}